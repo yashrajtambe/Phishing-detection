{
 "cells": [
  {
   "cell_type": "code",
   "execution_count": 103,
   "metadata": {},
   "outputs": [],
   "source": [
    "import pandas as pd\n",
    "from sklearn.linear_model import LogisticRegression\n",
    "from sklearn.ensemble import RandomForestClassifier\n",
    "from sklearn.tree import DecisionTreeClassifier\n",
    "from sklearn.svm import SVC\n",
    "import xgboost as xgb\n",
    "from sklearn.neighbors import KNeighborsClassifier\n",
    "from sklearn.neural_network import MLPClassifier\n",
    "from sklearn.model_selection import train_test_split\n",
    "from sklearn.metrics import accuracy_score,confusion_matrix,plot_confusion_matrix\n",
    "import numpy as np"
   ]
  },
  {
   "cell_type": "code",
   "execution_count": 3,
   "metadata": {},
   "outputs": [],
   "source": [
    "data = pd.read_csv('final_processed_csv.csv')"
   ]
  },
  {
   "cell_type": "code",
   "execution_count": 4,
   "metadata": {},
   "outputs": [
    {
     "data": {
      "text/html": [
       "<div>\n",
       "<style scoped>\n",
       "    .dataframe tbody tr th:only-of-type {\n",
       "        vertical-align: middle;\n",
       "    }\n",
       "\n",
       "    .dataframe tbody tr th {\n",
       "        vertical-align: top;\n",
       "    }\n",
       "\n",
       "    .dataframe thead th {\n",
       "        text-align: right;\n",
       "    }\n",
       "</style>\n",
       "<table border=\"1\" class=\"dataframe\">\n",
       "  <thead>\n",
       "    <tr style=\"text-align: right;\">\n",
       "      <th></th>\n",
       "      <th>Unnamed: 0</th>\n",
       "      <th>url</th>\n",
       "      <th>type</th>\n",
       "      <th>length</th>\n",
       "      <th>ip_present</th>\n",
       "      <th>special_char_count</th>\n",
       "      <th>common_term_count</th>\n",
       "      <th>digit_ratio</th>\n",
       "      <th>phish_hints</th>\n",
       "      <th>second_double_slash</th>\n",
       "      <th>http(s)_present</th>\n",
       "      <th>URL_depth</th>\n",
       "      <th>abnormal_subdomain</th>\n",
       "    </tr>\n",
       "  </thead>\n",
       "  <tbody>\n",
       "    <tr>\n",
       "      <th>0</th>\n",
       "      <td>0</td>\n",
       "      <td>https://www.amaozom.6rcbybq.cn/</td>\n",
       "      <td>1.0</td>\n",
       "      <td>31.0</td>\n",
       "      <td>0</td>\n",
       "      <td>7</td>\n",
       "      <td>3</td>\n",
       "      <td>0.032258</td>\n",
       "      <td>0</td>\n",
       "      <td>0</td>\n",
       "      <td>0</td>\n",
       "      <td>0</td>\n",
       "      <td>0</td>\n",
       "    </tr>\n",
       "    <tr>\n",
       "      <th>1</th>\n",
       "      <td>1</td>\n",
       "      <td>https://www2.amaozom.kudayin.cn/</td>\n",
       "      <td>1.0</td>\n",
       "      <td>32.0</td>\n",
       "      <td>0</td>\n",
       "      <td>7</td>\n",
       "      <td>3</td>\n",
       "      <td>0.031250</td>\n",
       "      <td>0</td>\n",
       "      <td>0</td>\n",
       "      <td>0</td>\n",
       "      <td>0</td>\n",
       "      <td>1</td>\n",
       "    </tr>\n",
       "    <tr>\n",
       "      <th>2</th>\n",
       "      <td>2</td>\n",
       "      <td>https://wiadomosci.wp.pl/tag/pogoda</td>\n",
       "      <td>0.0</td>\n",
       "      <td>35.0</td>\n",
       "      <td>0</td>\n",
       "      <td>7</td>\n",
       "      <td>2</td>\n",
       "      <td>0.000000</td>\n",
       "      <td>1</td>\n",
       "      <td>0</td>\n",
       "      <td>0</td>\n",
       "      <td>2</td>\n",
       "      <td>0</td>\n",
       "    </tr>\n",
       "    <tr>\n",
       "      <th>3</th>\n",
       "      <td>3</td>\n",
       "      <td>https://www.aparatkids.com/?utm_source=aparat-...</td>\n",
       "      <td>0.0</td>\n",
       "      <td>121.0</td>\n",
       "      <td>0</td>\n",
       "      <td>18</td>\n",
       "      <td>4</td>\n",
       "      <td>0.000000</td>\n",
       "      <td>1</td>\n",
       "      <td>0</td>\n",
       "      <td>0</td>\n",
       "      <td>0</td>\n",
       "      <td>0</td>\n",
       "    </tr>\n",
       "    <tr>\n",
       "      <th>4</th>\n",
       "      <td>4</td>\n",
       "      <td>http://azb3s.cf/2jo4cehk1nzc1sk66897lrszwgwssp...</td>\n",
       "      <td>1.0</td>\n",
       "      <td>139.0</td>\n",
       "      <td>0</td>\n",
       "      <td>11</td>\n",
       "      <td>2</td>\n",
       "      <td>0.201439</td>\n",
       "      <td>0</td>\n",
       "      <td>0</td>\n",
       "      <td>0</td>\n",
       "      <td>2</td>\n",
       "      <td>1</td>\n",
       "    </tr>\n",
       "  </tbody>\n",
       "</table>\n",
       "</div>"
      ],
      "text/plain": [
       "   Unnamed: 0                                                url  type  \\\n",
       "0           0                    https://www.amaozom.6rcbybq.cn/   1.0   \n",
       "1           1                   https://www2.amaozom.kudayin.cn/   1.0   \n",
       "2           2                https://wiadomosci.wp.pl/tag/pogoda   0.0   \n",
       "3           3  https://www.aparatkids.com/?utm_source=aparat-...   0.0   \n",
       "4           4  http://azb3s.cf/2jo4cehk1nzc1sk66897lrszwgwssp...   1.0   \n",
       "\n",
       "   length  ip_present  special_char_count  common_term_count  digit_ratio  \\\n",
       "0    31.0           0                   7                  3     0.032258   \n",
       "1    32.0           0                   7                  3     0.031250   \n",
       "2    35.0           0                   7                  2     0.000000   \n",
       "3   121.0           0                  18                  4     0.000000   \n",
       "4   139.0           0                  11                  2     0.201439   \n",
       "\n",
       "   phish_hints  second_double_slash  http(s)_present  URL_depth  \\\n",
       "0            0                    0                0          0   \n",
       "1            0                    0                0          0   \n",
       "2            1                    0                0          2   \n",
       "3            1                    0                0          0   \n",
       "4            0                    0                0          2   \n",
       "\n",
       "   abnormal_subdomain  \n",
       "0                   0  \n",
       "1                   1  \n",
       "2                   0  \n",
       "3                   0  \n",
       "4                   1  "
      ]
     },
     "execution_count": 4,
     "metadata": {},
     "output_type": "execute_result"
    }
   ],
   "source": [
    "data.head()"
   ]
  },
  {
   "cell_type": "code",
   "execution_count": 5,
   "metadata": {},
   "outputs": [],
   "source": [
    "#dropping unnecessary columns\n",
    "data.drop(['Unnamed: 0','url'],axis=1,inplace=True)"
   ]
  },
  {
   "cell_type": "code",
   "execution_count": 6,
   "metadata": {},
   "outputs": [
    {
     "data": {
      "text/html": [
       "<div>\n",
       "<style scoped>\n",
       "    .dataframe tbody tr th:only-of-type {\n",
       "        vertical-align: middle;\n",
       "    }\n",
       "\n",
       "    .dataframe tbody tr th {\n",
       "        vertical-align: top;\n",
       "    }\n",
       "\n",
       "    .dataframe thead th {\n",
       "        text-align: right;\n",
       "    }\n",
       "</style>\n",
       "<table border=\"1\" class=\"dataframe\">\n",
       "  <thead>\n",
       "    <tr style=\"text-align: right;\">\n",
       "      <th></th>\n",
       "      <th>type</th>\n",
       "      <th>length</th>\n",
       "      <th>ip_present</th>\n",
       "      <th>special_char_count</th>\n",
       "      <th>common_term_count</th>\n",
       "      <th>digit_ratio</th>\n",
       "      <th>phish_hints</th>\n",
       "      <th>second_double_slash</th>\n",
       "      <th>http(s)_present</th>\n",
       "      <th>URL_depth</th>\n",
       "      <th>abnormal_subdomain</th>\n",
       "    </tr>\n",
       "  </thead>\n",
       "  <tbody>\n",
       "    <tr>\n",
       "      <th>0</th>\n",
       "      <td>1.0</td>\n",
       "      <td>31.0</td>\n",
       "      <td>0</td>\n",
       "      <td>7</td>\n",
       "      <td>3</td>\n",
       "      <td>0.032258</td>\n",
       "      <td>0</td>\n",
       "      <td>0</td>\n",
       "      <td>0</td>\n",
       "      <td>0</td>\n",
       "      <td>0</td>\n",
       "    </tr>\n",
       "    <tr>\n",
       "      <th>1</th>\n",
       "      <td>1.0</td>\n",
       "      <td>32.0</td>\n",
       "      <td>0</td>\n",
       "      <td>7</td>\n",
       "      <td>3</td>\n",
       "      <td>0.031250</td>\n",
       "      <td>0</td>\n",
       "      <td>0</td>\n",
       "      <td>0</td>\n",
       "      <td>0</td>\n",
       "      <td>1</td>\n",
       "    </tr>\n",
       "    <tr>\n",
       "      <th>2</th>\n",
       "      <td>0.0</td>\n",
       "      <td>35.0</td>\n",
       "      <td>0</td>\n",
       "      <td>7</td>\n",
       "      <td>2</td>\n",
       "      <td>0.000000</td>\n",
       "      <td>1</td>\n",
       "      <td>0</td>\n",
       "      <td>0</td>\n",
       "      <td>2</td>\n",
       "      <td>0</td>\n",
       "    </tr>\n",
       "    <tr>\n",
       "      <th>3</th>\n",
       "      <td>0.0</td>\n",
       "      <td>121.0</td>\n",
       "      <td>0</td>\n",
       "      <td>18</td>\n",
       "      <td>4</td>\n",
       "      <td>0.000000</td>\n",
       "      <td>1</td>\n",
       "      <td>0</td>\n",
       "      <td>0</td>\n",
       "      <td>0</td>\n",
       "      <td>0</td>\n",
       "    </tr>\n",
       "    <tr>\n",
       "      <th>4</th>\n",
       "      <td>1.0</td>\n",
       "      <td>139.0</td>\n",
       "      <td>0</td>\n",
       "      <td>11</td>\n",
       "      <td>2</td>\n",
       "      <td>0.201439</td>\n",
       "      <td>0</td>\n",
       "      <td>0</td>\n",
       "      <td>0</td>\n",
       "      <td>2</td>\n",
       "      <td>1</td>\n",
       "    </tr>\n",
       "  </tbody>\n",
       "</table>\n",
       "</div>"
      ],
      "text/plain": [
       "   type  length  ip_present  special_char_count  common_term_count  \\\n",
       "0   1.0    31.0           0                   7                  3   \n",
       "1   1.0    32.0           0                   7                  3   \n",
       "2   0.0    35.0           0                   7                  2   \n",
       "3   0.0   121.0           0                  18                  4   \n",
       "4   1.0   139.0           0                  11                  2   \n",
       "\n",
       "   digit_ratio  phish_hints  second_double_slash  http(s)_present  URL_depth  \\\n",
       "0     0.032258            0                    0                0          0   \n",
       "1     0.031250            0                    0                0          0   \n",
       "2     0.000000            1                    0                0          2   \n",
       "3     0.000000            1                    0                0          0   \n",
       "4     0.201439            0                    0                0          2   \n",
       "\n",
       "   abnormal_subdomain  \n",
       "0                   0  \n",
       "1                   1  \n",
       "2                   0  \n",
       "3                   0  \n",
       "4                   1  "
      ]
     },
     "execution_count": 6,
     "metadata": {},
     "output_type": "execute_result"
    }
   ],
   "source": [
    "data.head()"
   ]
  },
  {
   "cell_type": "code",
   "execution_count": 7,
   "metadata": {},
   "outputs": [],
   "source": [
    "#checking for null values\n",
    "df = data[data.isna().any(axis=1)]"
   ]
  },
  {
   "cell_type": "code",
   "execution_count": 8,
   "metadata": {},
   "outputs": [
    {
     "name": "stdout",
     "output_type": "stream",
     "text": [
      "       type  length  ip_present  special_char_count  common_term_count  \\\n",
      "15255   NaN     NaN           0                   0                  0   \n",
      "\n",
      "       digit_ratio  phish_hints  second_double_slash  http(s)_present  \\\n",
      "15255          0.0            0                    0                0   \n",
      "\n",
      "       URL_depth  abnormal_subdomain  \n",
      "15255          1                   0  \n"
     ]
    }
   ],
   "source": [
    "print(df)"
   ]
  },
  {
   "cell_type": "code",
   "execution_count": 9,
   "metadata": {},
   "outputs": [],
   "source": [
    "#droppping the empty rows\n",
    "data.drop(15255,inplace=True)"
   ]
  },
  {
   "cell_type": "code",
   "execution_count": 10,
   "metadata": {},
   "outputs": [],
   "source": [
    "y = data['type']\n",
    "X = data.drop(['type'],axis=1)"
   ]
  },
  {
   "cell_type": "code",
   "execution_count": 11,
   "metadata": {},
   "outputs": [],
   "source": [
    "X_train,X_test,y_train,y_test = train_test_split(X,y,test_size=0.2,random_state=0)"
   ]
  },
  {
   "cell_type": "code",
   "execution_count": 12,
   "metadata": {},
   "outputs": [
    {
     "data": {
      "text/plain": [
       "((17200, 10), (4301, 10))"
      ]
     },
     "execution_count": 12,
     "metadata": {},
     "output_type": "execute_result"
    }
   ],
   "source": [
    "X_train.shape,X_test.shape"
   ]
  },
  {
   "cell_type": "code",
   "execution_count": 61,
   "metadata": {},
   "outputs": [],
   "source": [
    "#creating a utility method for storing accuracy results for each model\n",
    "model_accuracy_table = []\n",
    "def store_res(model,train_acc,test_acc):\n",
    "    model_accuracy_table.append({\"Model \":model,\"Train accuracy \":train_acc,\"Test accuracy \":test_acc})"
   ]
  },
  {
   "cell_type": "code",
   "execution_count": 14,
   "metadata": {},
   "outputs": [],
   "source": [
    "train = xgb.DMatrix(X_train,label=y_train)\n",
    "test = xgb.DMatrix(X_test,label=y_test)"
   ]
  },
  {
   "cell_type": "code",
   "execution_count": 15,
   "metadata": {},
   "outputs": [],
   "source": [
    "param = {\n",
    "    'max_depth':30,\n",
    "    'booster':'gbtree',\n",
    "    'eta':0.2,\n",
    "    'objective':'multi:softmax',\n",
    "    'num_class':2\n",
    "}\n",
    "epochs= 60"
   ]
  },
  {
   "cell_type": "code",
   "execution_count": 16,
   "metadata": {},
   "outputs": [
    {
     "name": "stdout",
     "output_type": "stream",
     "text": [
      "[10:08:03] WARNING: C:/Users/Administrator/workspace/xgboost-win64_release_1.5.1/src/learner.cc:1115: Starting in XGBoost 1.3.0, the default evaluation metric used with the objective 'multi:softmax' was changed from 'merror' to 'mlogloss'. Explicitly set eval_metric if you'd like to restore the old behavior.\n"
     ]
    }
   ],
   "source": [
    "model = xgb.train(param,train,epochs)\n",
    "predictions_test_xgb = model.predict(test)\n",
    "predictions_train_xgb = model.predict(train)"
   ]
  },
  {
   "cell_type": "code",
   "execution_count": 17,
   "metadata": {},
   "outputs": [
    {
     "data": {
      "text/plain": [
       "(0.9498255813953488, 0.8802604045570798)"
      ]
     },
     "execution_count": 17,
     "metadata": {},
     "output_type": "execute_result"
    }
   ],
   "source": [
    "accuracy_train_xgb = accuracy_score(predictions_train_xgb,y_train)\n",
    "accuracy_test_xgb = accuracy_score(predictions_test_xgb,y_test)\n",
    "accuracy_train_xgb,accuracy_test_xgb"
   ]
  },
  {
   "cell_type": "code",
   "execution_count": 62,
   "metadata": {},
   "outputs": [],
   "source": [
    "store_res('XGBooster',round(accuracy_train_xgb*100,3),round(accuracy_test_xgb*100,3))"
   ]
  },
  {
   "cell_type": "code",
   "execution_count": 63,
   "metadata": {},
   "outputs": [
    {
     "data": {
      "text/plain": [
       "[{'Model ': 'XGBooster', 'Train accuracy ': 94.983, 'Test accuracy ': 88.026}]"
      ]
     },
     "execution_count": 63,
     "metadata": {},
     "output_type": "execute_result"
    }
   ],
   "source": [
    "model_accuracy_table"
   ]
  },
  {
   "cell_type": "code",
   "execution_count": 20,
   "metadata": {},
   "outputs": [],
   "source": [
    "log_regress = LogisticRegression(max_iter = 100)"
   ]
  },
  {
   "cell_type": "code",
   "execution_count": 21,
   "metadata": {},
   "outputs": [
    {
     "name": "stderr",
     "output_type": "stream",
     "text": [
      "C:\\Users\\desai\\anaconda3\\lib\\site-packages\\sklearn\\linear_model\\_logistic.py:762: ConvergenceWarning: lbfgs failed to converge (status=1):\n",
      "STOP: TOTAL NO. of ITERATIONS REACHED LIMIT.\n",
      "\n",
      "Increase the number of iterations (max_iter) or scale the data as shown in:\n",
      "    https://scikit-learn.org/stable/modules/preprocessing.html\n",
      "Please also refer to the documentation for alternative solver options:\n",
      "    https://scikit-learn.org/stable/modules/linear_model.html#logistic-regression\n",
      "  n_iter_i = _check_optimize_result(\n"
     ]
    },
    {
     "data": {
      "text/plain": [
       "LogisticRegression()"
      ]
     },
     "execution_count": 21,
     "metadata": {},
     "output_type": "execute_result"
    }
   ],
   "source": [
    "log_regress.fit(X_train,y_train)"
   ]
  },
  {
   "cell_type": "code",
   "execution_count": 22,
   "metadata": {},
   "outputs": [],
   "source": [
    "predictions_train_log_reg = log_regress.predict(X_train)\n",
    "predictions_test_log_reg = log_regress.predict(X_test)"
   ]
  },
  {
   "cell_type": "code",
   "execution_count": 23,
   "metadata": {},
   "outputs": [],
   "source": [
    "accuracy_train_log_reg = accuracy_score(predictions_train_log_reg,y_train)\n",
    "accuracy_test_log_reg = accuracy_score(predictions_test_log_reg,y_test)"
   ]
  },
  {
   "cell_type": "code",
   "execution_count": 24,
   "metadata": {},
   "outputs": [
    {
     "data": {
      "text/plain": [
       "(0.7606395348837209, 0.7593582887700535)"
      ]
     },
     "execution_count": 24,
     "metadata": {},
     "output_type": "execute_result"
    }
   ],
   "source": [
    "accuracy_train_log_reg,accuracy_test_log_reg"
   ]
  },
  {
   "cell_type": "code",
   "execution_count": 64,
   "metadata": {},
   "outputs": [],
   "source": [
    "store_res('Logistic Regression',round(accuracy_train_log_reg*100,3),round(accuracy_test_log_reg*100,2))"
   ]
  },
  {
   "cell_type": "code",
   "execution_count": 65,
   "metadata": {},
   "outputs": [
    {
     "data": {
      "text/plain": [
       "[{'Model ': 'XGBooster', 'Train accuracy ': 94.983, 'Test accuracy ': 88.026},\n",
       " {'Model ': 'Logistic Regression',\n",
       "  'Train accuracy ': 76.064,\n",
       "  'Test accuracy ': 75.94}]"
      ]
     },
     "execution_count": 65,
     "metadata": {},
     "output_type": "execute_result"
    }
   ],
   "source": [
    "model_accuracy_table"
   ]
  },
  {
   "cell_type": "code",
   "execution_count": 27,
   "metadata": {},
   "outputs": [],
   "source": [
    "classifier = RandomForestClassifier(n_estimators = 20,criterion='entropy',max_depth=25)"
   ]
  },
  {
   "cell_type": "code",
   "execution_count": 28,
   "metadata": {},
   "outputs": [
    {
     "data": {
      "text/plain": [
       "RandomForestClassifier(criterion='entropy', max_depth=25, n_estimators=20)"
      ]
     },
     "execution_count": 28,
     "metadata": {},
     "output_type": "execute_result"
    }
   ],
   "source": [
    "classifier.fit(X_train,y_train)"
   ]
  },
  {
   "cell_type": "code",
   "execution_count": 29,
   "metadata": {},
   "outputs": [],
   "source": [
    "predictions_train_rfc = classifier.predict(X_train)\n",
    "predictions_test_rfc = classifier.predict(X_test)"
   ]
  },
  {
   "cell_type": "code",
   "execution_count": 30,
   "metadata": {},
   "outputs": [],
   "source": [
    "accuracy_train_rfc = accuracy_score(predictions_train_rfc,y_train)\n",
    "accuracy_test_rfc = accuracy_score(predictions_test_rfc,y_test)"
   ]
  },
  {
   "cell_type": "code",
   "execution_count": 31,
   "metadata": {},
   "outputs": [
    {
     "data": {
      "text/plain": [
       "(0.9481395348837209, 0.8832829574517554)"
      ]
     },
     "execution_count": 31,
     "metadata": {},
     "output_type": "execute_result"
    }
   ],
   "source": [
    "accuracy_train_rfc,accuracy_test_rfc"
   ]
  },
  {
   "cell_type": "code",
   "execution_count": 66,
   "metadata": {},
   "outputs": [],
   "source": [
    "store_res('Random Forest Classifier',round(accuracy_train_rfc*100,3),round(accuracy_test_rfc*100,3))"
   ]
  },
  {
   "cell_type": "code",
   "execution_count": 33,
   "metadata": {},
   "outputs": [],
   "source": [
    "tree = DecisionTreeClassifier(max_depth=45)"
   ]
  },
  {
   "cell_type": "code",
   "execution_count": 34,
   "metadata": {},
   "outputs": [
    {
     "data": {
      "text/plain": [
       "DecisionTreeClassifier(max_depth=45)"
      ]
     },
     "execution_count": 34,
     "metadata": {},
     "output_type": "execute_result"
    }
   ],
   "source": [
    "tree.fit(X_train,y_train)"
   ]
  },
  {
   "cell_type": "code",
   "execution_count": 35,
   "metadata": {},
   "outputs": [],
   "source": [
    "pred_train_dt = tree.predict(X_train)\n",
    "pred_test_dt = tree.predict(X_test)"
   ]
  },
  {
   "cell_type": "code",
   "execution_count": 36,
   "metadata": {},
   "outputs": [],
   "source": [
    "accuracy_train_dt = accuracy_score(y_train,pred_train_dt)\n",
    "accuracy_test_dt = accuracy_score(y_test,pred_test_dt)"
   ]
  },
  {
   "cell_type": "code",
   "execution_count": 37,
   "metadata": {},
   "outputs": [
    {
     "data": {
      "text/plain": [
       "(0.9500581395348837, 0.8691002092536619)"
      ]
     },
     "execution_count": 37,
     "metadata": {},
     "output_type": "execute_result"
    }
   ],
   "source": [
    "accuracy_train_dt,accuracy_test_dt"
   ]
  },
  {
   "cell_type": "code",
   "execution_count": 67,
   "metadata": {},
   "outputs": [],
   "source": [
    "store_res('decision Tree',round(accuracy_train_dt*100,3),round(accuracy_test_dt*100,3))"
   ]
  },
  {
   "cell_type": "code",
   "execution_count": 68,
   "metadata": {},
   "outputs": [
    {
     "data": {
      "text/plain": [
       "[{'Model ': 'XGBooster', 'Train accuracy ': 94.983, 'Test accuracy ': 88.026},\n",
       " {'Model ': 'Logistic Regression',\n",
       "  'Train accuracy ': 76.064,\n",
       "  'Test accuracy ': 75.94},\n",
       " {'Model ': 'Random Forest Classifier',\n",
       "  'Train accuracy ': 94.814,\n",
       "  'Test accuracy ': 88.328},\n",
       " {'Model ': 'decision Tree',\n",
       "  'Train accuracy ': 95.006,\n",
       "  'Test accuracy ': 86.91}]"
      ]
     },
     "execution_count": 68,
     "metadata": {},
     "output_type": "execute_result"
    }
   ],
   "source": [
    "model_accuracy_table"
   ]
  },
  {
   "cell_type": "code",
   "execution_count": 40,
   "metadata": {},
   "outputs": [],
   "source": [
    "svm = SVC(C=100,gamma=0.1)"
   ]
  },
  {
   "cell_type": "code",
   "execution_count": 41,
   "metadata": {},
   "outputs": [
    {
     "data": {
      "text/plain": [
       "SVC(C=100, gamma=0.1)"
      ]
     },
     "execution_count": 41,
     "metadata": {},
     "output_type": "execute_result"
    }
   ],
   "source": [
    "svm.fit(X_train,y_train)"
   ]
  },
  {
   "cell_type": "code",
   "execution_count": 42,
   "metadata": {},
   "outputs": [],
   "source": [
    "preds_train_svm = svm.predict(X_train)\n",
    "preds_test_svm = svm.predict(X_test)"
   ]
  },
  {
   "cell_type": "code",
   "execution_count": 43,
   "metadata": {},
   "outputs": [],
   "source": [
    "svm_train_acc = accuracy_score(preds_train_svm,y_train)\n",
    "svm_test_acc = accuracy_score(preds_test_svm,y_test)"
   ]
  },
  {
   "cell_type": "code",
   "execution_count": 44,
   "metadata": {},
   "outputs": [
    {
     "data": {
      "text/plain": [
       "(0.911046511627907, 0.8553824691932109)"
      ]
     },
     "execution_count": 44,
     "metadata": {},
     "output_type": "execute_result"
    }
   ],
   "source": [
    "svm_train_acc,svm_test_acc"
   ]
  },
  {
   "cell_type": "code",
   "execution_count": 69,
   "metadata": {},
   "outputs": [],
   "source": [
    "store_res('SVM',round(svm_train_acc*100,3),round(svm_test_acc*100,3))"
   ]
  },
  {
   "cell_type": "code",
   "execution_count": 70,
   "metadata": {},
   "outputs": [
    {
     "data": {
      "text/plain": [
       "[{'Model ': 'XGBooster', 'Train accuracy ': 94.983, 'Test accuracy ': 88.026},\n",
       " {'Model ': 'Logistic Regression',\n",
       "  'Train accuracy ': 76.064,\n",
       "  'Test accuracy ': 75.94},\n",
       " {'Model ': 'Random Forest Classifier',\n",
       "  'Train accuracy ': 94.814,\n",
       "  'Test accuracy ': 88.328},\n",
       " {'Model ': 'decision Tree',\n",
       "  'Train accuracy ': 95.006,\n",
       "  'Test accuracy ': 86.91},\n",
       " {'Model ': 'SVM', 'Train accuracy ': 91.105, 'Test accuracy ': 85.538}]"
      ]
     },
     "execution_count": 70,
     "metadata": {},
     "output_type": "execute_result"
    }
   ],
   "source": [
    "model_accuracy_table"
   ]
  },
  {
   "cell_type": "code",
   "execution_count": 47,
   "metadata": {},
   "outputs": [],
   "source": [
    "knn = KNeighborsClassifier(n_neighbors=1)"
   ]
  },
  {
   "cell_type": "code",
   "execution_count": 48,
   "metadata": {},
   "outputs": [
    {
     "data": {
      "text/plain": [
       "KNeighborsClassifier(n_neighbors=1)"
      ]
     },
     "execution_count": 48,
     "metadata": {},
     "output_type": "execute_result"
    }
   ],
   "source": [
    "knn.fit(X_train,y_train)"
   ]
  },
  {
   "cell_type": "code",
   "execution_count": 49,
   "metadata": {},
   "outputs": [],
   "source": [
    "preds_knn_train = knn.predict(X_train)\n",
    "preds_knn_test = knn.predict(X_test)"
   ]
  },
  {
   "cell_type": "code",
   "execution_count": 50,
   "metadata": {},
   "outputs": [],
   "source": [
    "knn_train_acc = accuracy_score(preds_knn_train,y_train)\n",
    "knn_test_acc = accuracy_score(preds_knn_test,y_test)"
   ]
  },
  {
   "cell_type": "code",
   "execution_count": 51,
   "metadata": {},
   "outputs": [
    {
     "data": {
      "text/plain": [
       "(0.9328488372093023, 0.8374796558939781)"
      ]
     },
     "execution_count": 51,
     "metadata": {},
     "output_type": "execute_result"
    }
   ],
   "source": [
    "knn_train_acc,knn_test_acc"
   ]
  },
  {
   "cell_type": "code",
   "execution_count": 52,
   "metadata": {},
   "outputs": [],
   "source": [
    "def find_n(n):\n",
    "    knn = KNeighborsClassifier(n_neighbors=n)\n",
    "    knn.fit(X_train,y_train)\n",
    "    preds_knn_train = knn.predict(X_train)\n",
    "    preds_knn_test = knn.predict(X_test)\n",
    "    knn_train_acc = accuracy_score(preds_knn_train,y_train)\n",
    "    knn_test_acc = accuracy_score(preds_knn_test,y_test)\n",
    "    return knn_train_acc,knn_test_acc"
   ]
  },
  {
   "cell_type": "code",
   "execution_count": 53,
   "metadata": {},
   "outputs": [
    {
     "name": "stdout",
     "output_type": "stream",
     "text": [
      "[93.3, 83.7]\n",
      "[88.7, 82.4]\n",
      "[89.6, 83.7]\n",
      "[87.8, 83.2]\n",
      "[88.4, 84.2]\n",
      "[86.7, 83.5]\n",
      "[87.1, 83.9]\n",
      "[86.2, 83.4]\n",
      "[86.5, 83.6]\n"
     ]
    }
   ],
   "source": [
    "acc = []\n",
    "for i in range(1,10):\n",
    "    max_train,max_test = find_n(i)\n",
    "    max_train = max_train*100\n",
    "    max_test = max_test*100\n",
    "    acc.append([round(max_train,1),round(max_test,1)])\n",
    "    \n",
    "\n",
    "for i in acc:\n",
    "    print (i)"
   ]
  },
  {
   "cell_type": "code",
   "execution_count": 71,
   "metadata": {},
   "outputs": [],
   "source": [
    "store_res('KNN',round(knn_train_acc*100,3),round(knn_test_acc*100,3))"
   ]
  },
  {
   "cell_type": "code",
   "execution_count": 72,
   "metadata": {},
   "outputs": [
    {
     "data": {
      "text/plain": [
       "[{'Model ': 'XGBooster', 'Train accuracy ': 94.983, 'Test accuracy ': 88.026},\n",
       " {'Model ': 'Logistic Regression',\n",
       "  'Train accuracy ': 76.064,\n",
       "  'Test accuracy ': 75.94},\n",
       " {'Model ': 'Random Forest Classifier',\n",
       "  'Train accuracy ': 94.814,\n",
       "  'Test accuracy ': 88.328},\n",
       " {'Model ': 'decision Tree',\n",
       "  'Train accuracy ': 95.006,\n",
       "  'Test accuracy ': 86.91},\n",
       " {'Model ': 'SVM', 'Train accuracy ': 91.105, 'Test accuracy ': 85.538},\n",
       " {'Model ': 'KNN', 'Train accuracy ': 93.285, 'Test accuracy ': 83.748}]"
      ]
     },
     "execution_count": 72,
     "metadata": {},
     "output_type": "execute_result"
    }
   ],
   "source": [
    "model_accuracy_table"
   ]
  },
  {
   "cell_type": "code",
   "execution_count": 73,
   "metadata": {},
   "outputs": [],
   "source": [
    "results_table = pd.DataFrame(model_accuracy_table)"
   ]
  },
  {
   "cell_type": "code",
   "execution_count": 74,
   "metadata": {},
   "outputs": [
    {
     "data": {
      "text/html": [
       "<div>\n",
       "<style scoped>\n",
       "    .dataframe tbody tr th:only-of-type {\n",
       "        vertical-align: middle;\n",
       "    }\n",
       "\n",
       "    .dataframe tbody tr th {\n",
       "        vertical-align: top;\n",
       "    }\n",
       "\n",
       "    .dataframe thead th {\n",
       "        text-align: right;\n",
       "    }\n",
       "</style>\n",
       "<table border=\"1\" class=\"dataframe\">\n",
       "  <thead>\n",
       "    <tr style=\"text-align: right;\">\n",
       "      <th></th>\n",
       "      <th>Model</th>\n",
       "      <th>Train accuracy</th>\n",
       "      <th>Test accuracy</th>\n",
       "    </tr>\n",
       "  </thead>\n",
       "  <tbody>\n",
       "    <tr>\n",
       "      <th>0</th>\n",
       "      <td>XGBooster</td>\n",
       "      <td>94.983</td>\n",
       "      <td>88.026</td>\n",
       "    </tr>\n",
       "    <tr>\n",
       "      <th>1</th>\n",
       "      <td>Logistic Regression</td>\n",
       "      <td>76.064</td>\n",
       "      <td>75.940</td>\n",
       "    </tr>\n",
       "    <tr>\n",
       "      <th>2</th>\n",
       "      <td>Random Forest Classifier</td>\n",
       "      <td>94.814</td>\n",
       "      <td>88.328</td>\n",
       "    </tr>\n",
       "    <tr>\n",
       "      <th>3</th>\n",
       "      <td>decision Tree</td>\n",
       "      <td>95.006</td>\n",
       "      <td>86.910</td>\n",
       "    </tr>\n",
       "    <tr>\n",
       "      <th>4</th>\n",
       "      <td>SVM</td>\n",
       "      <td>91.105</td>\n",
       "      <td>85.538</td>\n",
       "    </tr>\n",
       "    <tr>\n",
       "      <th>5</th>\n",
       "      <td>KNN</td>\n",
       "      <td>93.285</td>\n",
       "      <td>83.748</td>\n",
       "    </tr>\n",
       "  </tbody>\n",
       "</table>\n",
       "</div>"
      ],
      "text/plain": [
       "                     Model   Train accuracy   Test accuracy \n",
       "0                 XGBooster           94.983          88.026\n",
       "1       Logistic Regression           76.064          75.940\n",
       "2  Random Forest Classifier           94.814          88.328\n",
       "3             decision Tree           95.006          86.910\n",
       "4                       SVM           91.105          85.538\n",
       "5                       KNN           93.285          83.748"
      ]
     },
     "execution_count": 74,
     "metadata": {},
     "output_type": "execute_result"
    }
   ],
   "source": [
    "results_table"
   ]
  },
  {
   "cell_type": "markdown",
   "metadata": {},
   "source": [
    "###  Plotting confusion marix"
   ]
  },
  {
   "cell_type": "code",
   "execution_count": 111,
   "metadata": {},
   "outputs": [],
   "source": [
    "#XGBooster\n",
    "xgb_train_cm = confusion_matrix(predictions_train_xgb,y_train)\n",
    "xgb_test_cm = confusion_matrix(predictions_test_xgb,y_test)"
   ]
  },
  {
   "cell_type": "code",
   "execution_count": 112,
   "metadata": {},
   "outputs": [
    {
     "data": {
      "text/plain": [
       "(array([[9886,  549],\n",
       "        [ 314, 6451]], dtype=int64),\n",
       " array([[2347,  292],\n",
       "        [ 223, 1439]], dtype=int64))"
      ]
     },
     "execution_count": 112,
     "metadata": {},
     "output_type": "execute_result"
    }
   ],
   "source": [
    "xgb_train_cm,xgb_test_cm"
   ]
  },
  {
   "cell_type": "code",
   "execution_count": 114,
   "metadata": {},
   "outputs": [],
   "source": [
    "#Logistic Regression\n",
    "log_reg_train_cm = confusion_matrix(predictions_train_log_reg,y_train)\n",
    "log_reg_test_cm = confusion_matrix(predictions_test_log_reg,y_test)"
   ]
  },
  {
   "cell_type": "code",
   "execution_count": 115,
   "metadata": {},
   "outputs": [
    {
     "data": {
      "text/plain": [
       "(array([[8387, 2304],\n",
       "        [1813, 4696]], dtype=int64),\n",
       " array([[2118,  583],\n",
       "        [ 452, 1148]], dtype=int64))"
      ]
     },
     "execution_count": 115,
     "metadata": {},
     "output_type": "execute_result"
    }
   ],
   "source": [
    "log_reg_train_cm,log_reg_test_cm"
   ]
  },
  {
   "cell_type": "code",
   "execution_count": 116,
   "metadata": {},
   "outputs": [],
   "source": [
    "#Random Forest Classifier\n",
    "rfc_train_cm = confusion_matrix(predictions_train_rfc,y_train)\n",
    "rfc_test_cm = confusion_matrix(predictions_test_rfc,y_test)"
   ]
  },
  {
   "cell_type": "code",
   "execution_count": 117,
   "metadata": {},
   "outputs": [
    {
     "data": {
      "text/plain": [
       "(array([[9876,  568],\n",
       "        [ 324, 6432]], dtype=int64),\n",
       " array([[2360,  292],\n",
       "        [ 210, 1439]], dtype=int64))"
      ]
     },
     "execution_count": 117,
     "metadata": {},
     "output_type": "execute_result"
    }
   ],
   "source": [
    "rfc_train_cm,rfc_test_cm"
   ]
  },
  {
   "cell_type": "code",
   "execution_count": 118,
   "metadata": {},
   "outputs": [],
   "source": [
    "#Decision Tree\n",
    "dt_train_cm = confusion_matrix(pred_train_dt,y_train)\n",
    "dt_test_cm = confusion_matrix(pred_test_dt,y_test)"
   ]
  },
  {
   "cell_type": "code",
   "execution_count": 119,
   "metadata": {},
   "outputs": [
    {
     "data": {
      "text/plain": [
       "(array([[9959,  618],\n",
       "        [ 241, 6382]], dtype=int64),\n",
       " array([[2336,  329],\n",
       "        [ 234, 1402]], dtype=int64))"
      ]
     },
     "execution_count": 119,
     "metadata": {},
     "output_type": "execute_result"
    }
   ],
   "source": [
    "dt_train_cm,dt_test_cm"
   ]
  },
  {
   "cell_type": "code",
   "execution_count": 120,
   "metadata": {},
   "outputs": [],
   "source": [
    "#SVM\n",
    "svm_train_cm = confusion_matrix(preds_train_svm,y_train)\n",
    "svm_test_cm = confusion_matrix(preds_test_svm,y_test)"
   ]
  },
  {
   "cell_type": "code",
   "execution_count": 121,
   "metadata": {},
   "outputs": [
    {
     "data": {
      "text/plain": [
       "(array([[9601,  931],\n",
       "        [ 599, 6069]], dtype=int64),\n",
       " array([[2299,  351],\n",
       "        [ 271, 1380]], dtype=int64))"
      ]
     },
     "execution_count": 121,
     "metadata": {},
     "output_type": "execute_result"
    }
   ],
   "source": [
    "svm_train_cm,svm_test_cm"
   ]
  },
  {
   "cell_type": "code",
   "execution_count": 123,
   "metadata": {},
   "outputs": [],
   "source": [
    "#KNN\n",
    "knn_train_cm = confusion_matrix(preds_knn_train,y_train)\n",
    "knn_test_cm = confusion_matrix(preds_knn_test,y_test)"
   ]
  },
  {
   "cell_type": "code",
   "execution_count": 124,
   "metadata": {},
   "outputs": [
    {
     "data": {
      "text/plain": [
       "(array([[9585,  540],\n",
       "        [ 615, 6460]], dtype=int64),\n",
       " array([[2256,  385],\n",
       "        [ 314, 1346]], dtype=int64))"
      ]
     },
     "execution_count": 124,
     "metadata": {},
     "output_type": "execute_result"
    }
   ],
   "source": [
    "knn_train_cm, knn_test_cm"
   ]
  },
  {
   "cell_type": "code",
   "execution_count": 156,
   "metadata": {},
   "outputs": [],
   "source": [
    "model_prec_recall_table = []\n",
    "def store_prec_recall(model,train_prec,test_prec,train_recall,test_recall):\n",
    "    model_prec_recall_table.append({'Model':model,\"Train Precision\":train_prec,\"Test Precision\":test_prec,\"Train Recall\":train_recall,\"Test Recall\":test_recall})"
   ]
  },
  {
   "cell_type": "code",
   "execution_count": 164,
   "metadata": {},
   "outputs": [
    {
     "data": {
      "text/plain": [
       "[{'Model': 'XGB',\n",
       "  'Train Precision': 92.157,\n",
       "  'Test Precision': 83.131,\n",
       "  'Train Recall': 95.358,\n",
       "  'Test Recall': 86.582},\n",
       " {'Model': 'Lgistic regression',\n",
       "  'Train Precision': 67.086,\n",
       "  'Test Precision': 66.32,\n",
       "  'Train Recall': 72.146,\n",
       "  'Test Recall': 71.75},\n",
       " {'Model': 'Random Forest Classifier',\n",
       "  'Train Precision': 91.886,\n",
       "  'Test Precision': 91.886,\n",
       "  'Train Recall': 95.204,\n",
       "  'Test Recall': 87.265},\n",
       " {'Model': 'Decision Tree',\n",
       "  'Train Precision': 91.171,\n",
       "  'Test Precision': 80.994,\n",
       "  'Train Recall': 96.361,\n",
       "  'Test Recall': 85.697},\n",
       " {'Model': 'SVM',\n",
       "  'Train Precision': 86.7,\n",
       "  'Test Precision': 79.723,\n",
       "  'Train Recall': 91.017,\n",
       "  'Test Recall': 83.586},\n",
       " {'Model': 'KNN',\n",
       "  'Train Precision': 92.286,\n",
       "  'Test Precision': 77.759,\n",
       "  'Train Recall': 91.307,\n",
       "  'Test Recall': 81.084}]"
      ]
     },
     "execution_count": 164,
     "metadata": {},
     "output_type": "execute_result"
    }
   ],
   "source": [
    "model_prec_recall_table"
   ]
  },
  {
   "cell_type": "code",
   "execution_count": 139,
   "metadata": {},
   "outputs": [],
   "source": [
    "def precision(train_cm,test_cm):\n",
    "    tr_TN,tr_FP,tr_FN,tr_TP = train_cm.ravel()\n",
    "    te_TN,te_FP,te_FN,te_TP = test_cm.ravel()\n",
    "    return [round(tr_TP/(tr_TP+tr_FP)*100,3),round(te_TP/(te_TP+te_FP)*100,3)]\n",
    "    \n",
    "def recall(train_cm,test_cm):\n",
    "    tr_TN,tr_FP,tr_FN,tr_TP = train_cm.ravel()\n",
    "    te_TN,te_FP,te_FN,te_TP = test_cm.ravel()\n",
    "    return [round(tr_TP/(tr_TP+tr_FN)*100,3),round(te_TP/(te_TP+te_FN)*100,3)]"
   ]
  },
  {
   "cell_type": "code",
   "execution_count": 158,
   "metadata": {},
   "outputs": [],
   "source": [
    "store_prec_recall(\"XGB\",precision(xgb_train_cm,xgb_test_cm)[0],precision(xgb_train_cm,xgb_test_cm)[1],recall(xgb_train_cm,xgb_test_cm)[0],recall(xgb_train_cm,xgb_test_cm)[1])"
   ]
  },
  {
   "cell_type": "code",
   "execution_count": 159,
   "metadata": {},
   "outputs": [],
   "source": [
    "store_prec_recall(\"Lgistic regression\",precision(log_reg_train_cm,log_reg_test_cm)[0],precision(log_reg_train_cm,log_reg_test_cm)[1],recall(log_reg_train_cm,log_reg_test_cm)[0],recall(log_reg_train_cm,log_reg_test_cm)[1])"
   ]
  },
  {
   "cell_type": "code",
   "execution_count": 160,
   "metadata": {},
   "outputs": [],
   "source": [
    "store_prec_recall(\"Random Forest Classifier\",precision(rfc_train_cm,rfc_test_cm)[0],precision(rfc_train_cm,rfc_test_cm)[0],recall(rfc_train_cm,rfc_test_cm)[0],recall(rfc_train_cm,rfc_test_cm)[1])"
   ]
  },
  {
   "cell_type": "code",
   "execution_count": 161,
   "metadata": {},
   "outputs": [],
   "source": [
    "store_prec_recall(\"Decision Tree\",precision(dt_train_cm,dt_test_cm)[0],precision(dt_train_cm,dt_test_cm)[1],recall(dt_train_cm,dt_test_cm)[0],recall(dt_train_cm,dt_test_cm)[1])"
   ]
  },
  {
   "cell_type": "code",
   "execution_count": 162,
   "metadata": {},
   "outputs": [],
   "source": [
    "store_prec_recall(\"SVM\",precision(svm_train_cm,svm_test_cm)[0],precision(svm_train_cm,svm_test_cm)[1],recall(svm_train_cm,svm_test_cm)[0],recall(svm_train_cm,svm_test_cm)[1])"
   ]
  },
  {
   "cell_type": "code",
   "execution_count": 163,
   "metadata": {},
   "outputs": [],
   "source": [
    "store_prec_recall(\"KNN\",precision(knn_train_cm, knn_test_cm)[0],precision(knn_train_cm, knn_test_cm)[1],recall(knn_train_cm, knn_test_cm)[0],recall(knn_train_cm, knn_test_cm)[1])"
   ]
  },
  {
   "cell_type": "code",
   "execution_count": 195,
   "metadata": {},
   "outputs": [],
   "source": [
    "pre_rec_df = pd.DataFrame(model_prec_recall_table)"
   ]
  },
  {
   "cell_type": "markdown",
   "metadata": {},
   "source": [
    "### Finding F1 score"
   ]
  },
  {
   "cell_type": "code",
   "execution_count": 167,
   "metadata": {},
   "outputs": [
    {
     "name": "stdout",
     "output_type": "stream",
     "text": [
      "93.73017844972402\n"
     ]
    }
   ],
   "source": [
    "def f1_score(prec,recall):\n",
    "    return 2*(prec*recall)/(prec+recall)"
   ]
  },
  {
   "cell_type": "code",
   "execution_count": 184,
   "metadata": {},
   "outputs": [],
   "source": [
    "model_f1_table = []\n",
    "def f1_score(model,prec,recall):\n",
    "    model_f1_table.append({\"Model\":model,\"F1 score Train\":2*(prec[0]*recall[0])/(prec[0]+recall[0]),\"F1 score Test\":2*(prec[1]*recall[1])/(prec[1]+recall[1])}) "
   ]
  },
  {
   "cell_type": "code",
   "execution_count": 185,
   "metadata": {},
   "outputs": [],
   "source": [
    "f1_score(\"XGB\",precision(xgb_train_cm,xgb_test_cm),recall(xgb_train_cm,xgb_test_cm))"
   ]
  },
  {
   "cell_type": "code",
   "execution_count": 186,
   "metadata": {},
   "outputs": [],
   "source": [
    "f1_score(\"Lgistic regression\",precision(log_reg_train_cm,log_reg_test_cm),recall(log_reg_train_cm,log_reg_test_cm))"
   ]
  },
  {
   "cell_type": "code",
   "execution_count": 187,
   "metadata": {},
   "outputs": [],
   "source": [
    "f1_score(\"Random Forest Classifier\",precision(rfc_train_cm,rfc_test_cm),recall(rfc_train_cm,rfc_test_cm))"
   ]
  },
  {
   "cell_type": "code",
   "execution_count": 188,
   "metadata": {},
   "outputs": [],
   "source": [
    "f1_score(\"Decision Tree\",precision(dt_train_cm,dt_test_cm),recall(dt_train_cm,dt_test_cm))"
   ]
  },
  {
   "cell_type": "code",
   "execution_count": 189,
   "metadata": {},
   "outputs": [],
   "source": [
    "f1_score(\"SVM\",precision(svm_train_cm,svm_test_cm),recall(svm_train_cm,svm_test_cm))"
   ]
  },
  {
   "cell_type": "code",
   "execution_count": 190,
   "metadata": {},
   "outputs": [],
   "source": [
    "f1_score(\"KNN\",precision(knn_train_cm, knn_test_cm),recall(knn_train_cm, knn_test_cm))"
   ]
  },
  {
   "cell_type": "code",
   "execution_count": 191,
   "metadata": {},
   "outputs": [
    {
     "data": {
      "text/plain": [
       "[{'Model': 'XGB',\n",
       "  'F1 score Train': 93.73017844972402,\n",
       "  'F1 score Test': 84.82141311508252},\n",
       " {'Model': 'Lgistic regression',\n",
       "  'F1 score Train': 69.52405418294644,\n",
       "  'F1 score Test': 68.92822481350039},\n",
       " {'Model': 'Random Forest Classifier',\n",
       "  'F1 score Train': 93.51557799989311,\n",
       "  'F1 score Test': 85.14785223831545},\n",
       " {'Model': 'Decision Tree',\n",
       "  'F1 score Train': 93.69418265682658,\n",
       "  'F1 score Test': 83.27915505936134},\n",
       " {'Model': 'SVM',\n",
       "  'F1 score Train': 88.80606694913824,\n",
       "  'F1 score Test': 81.60881124738992},\n",
       " {'Model': 'KNN',\n",
       "  'F1 score Train': 91.79388976703905,\n",
       "  'F1 score Test': 79.38669952091058}]"
      ]
     },
     "execution_count": 191,
     "metadata": {},
     "output_type": "execute_result"
    }
   ],
   "source": [
    "model_f1_table"
   ]
  },
  {
   "cell_type": "code",
   "execution_count": 194,
   "metadata": {},
   "outputs": [],
   "source": [
    "f1_df = pd.DataFrame(model_f1_table)"
   ]
  },
  {
   "cell_type": "code",
   "execution_count": 196,
   "metadata": {},
   "outputs": [
    {
     "data": {
      "text/html": [
       "<div>\n",
       "<style scoped>\n",
       "    .dataframe tbody tr th:only-of-type {\n",
       "        vertical-align: middle;\n",
       "    }\n",
       "\n",
       "    .dataframe tbody tr th {\n",
       "        vertical-align: top;\n",
       "    }\n",
       "\n",
       "    .dataframe thead th {\n",
       "        text-align: right;\n",
       "    }\n",
       "</style>\n",
       "<table border=\"1\" class=\"dataframe\">\n",
       "  <thead>\n",
       "    <tr style=\"text-align: right;\">\n",
       "      <th></th>\n",
       "      <th>Model</th>\n",
       "      <th>Train accuracy</th>\n",
       "      <th>Test accuracy</th>\n",
       "    </tr>\n",
       "  </thead>\n",
       "  <tbody>\n",
       "    <tr>\n",
       "      <th>0</th>\n",
       "      <td>XGBooster</td>\n",
       "      <td>94.983</td>\n",
       "      <td>88.026</td>\n",
       "    </tr>\n",
       "    <tr>\n",
       "      <th>1</th>\n",
       "      <td>Logistic Regression</td>\n",
       "      <td>76.064</td>\n",
       "      <td>75.940</td>\n",
       "    </tr>\n",
       "    <tr>\n",
       "      <th>2</th>\n",
       "      <td>Random Forest Classifier</td>\n",
       "      <td>94.814</td>\n",
       "      <td>88.328</td>\n",
       "    </tr>\n",
       "    <tr>\n",
       "      <th>3</th>\n",
       "      <td>decision Tree</td>\n",
       "      <td>95.006</td>\n",
       "      <td>86.910</td>\n",
       "    </tr>\n",
       "    <tr>\n",
       "      <th>4</th>\n",
       "      <td>SVM</td>\n",
       "      <td>91.105</td>\n",
       "      <td>85.538</td>\n",
       "    </tr>\n",
       "    <tr>\n",
       "      <th>5</th>\n",
       "      <td>KNN</td>\n",
       "      <td>93.285</td>\n",
       "      <td>83.748</td>\n",
       "    </tr>\n",
       "  </tbody>\n",
       "</table>\n",
       "</div>"
      ],
      "text/plain": [
       "                     Model   Train accuracy   Test accuracy \n",
       "0                 XGBooster           94.983          88.026\n",
       "1       Logistic Regression           76.064          75.940\n",
       "2  Random Forest Classifier           94.814          88.328\n",
       "3             decision Tree           95.006          86.910\n",
       "4                       SVM           91.105          85.538\n",
       "5                       KNN           93.285          83.748"
      ]
     },
     "execution_count": 196,
     "metadata": {},
     "output_type": "execute_result"
    }
   ],
   "source": [
    "results_table"
   ]
  },
  {
   "cell_type": "code",
   "execution_count": 197,
   "metadata": {},
   "outputs": [
    {
     "data": {
      "text/html": [
       "<div>\n",
       "<style scoped>\n",
       "    .dataframe tbody tr th:only-of-type {\n",
       "        vertical-align: middle;\n",
       "    }\n",
       "\n",
       "    .dataframe tbody tr th {\n",
       "        vertical-align: top;\n",
       "    }\n",
       "\n",
       "    .dataframe thead th {\n",
       "        text-align: right;\n",
       "    }\n",
       "</style>\n",
       "<table border=\"1\" class=\"dataframe\">\n",
       "  <thead>\n",
       "    <tr style=\"text-align: right;\">\n",
       "      <th></th>\n",
       "      <th>Model</th>\n",
       "      <th>Train Precision</th>\n",
       "      <th>Test Precision</th>\n",
       "      <th>Train Recall</th>\n",
       "      <th>Test Recall</th>\n",
       "    </tr>\n",
       "  </thead>\n",
       "  <tbody>\n",
       "    <tr>\n",
       "      <th>0</th>\n",
       "      <td>XGB</td>\n",
       "      <td>92.157</td>\n",
       "      <td>83.131</td>\n",
       "      <td>95.358</td>\n",
       "      <td>86.582</td>\n",
       "    </tr>\n",
       "    <tr>\n",
       "      <th>1</th>\n",
       "      <td>Lgistic regression</td>\n",
       "      <td>67.086</td>\n",
       "      <td>66.320</td>\n",
       "      <td>72.146</td>\n",
       "      <td>71.750</td>\n",
       "    </tr>\n",
       "    <tr>\n",
       "      <th>2</th>\n",
       "      <td>Random Forest Classifier</td>\n",
       "      <td>91.886</td>\n",
       "      <td>91.886</td>\n",
       "      <td>95.204</td>\n",
       "      <td>87.265</td>\n",
       "    </tr>\n",
       "    <tr>\n",
       "      <th>3</th>\n",
       "      <td>Decision Tree</td>\n",
       "      <td>91.171</td>\n",
       "      <td>80.994</td>\n",
       "      <td>96.361</td>\n",
       "      <td>85.697</td>\n",
       "    </tr>\n",
       "    <tr>\n",
       "      <th>4</th>\n",
       "      <td>SVM</td>\n",
       "      <td>86.700</td>\n",
       "      <td>79.723</td>\n",
       "      <td>91.017</td>\n",
       "      <td>83.586</td>\n",
       "    </tr>\n",
       "    <tr>\n",
       "      <th>5</th>\n",
       "      <td>KNN</td>\n",
       "      <td>92.286</td>\n",
       "      <td>77.759</td>\n",
       "      <td>91.307</td>\n",
       "      <td>81.084</td>\n",
       "    </tr>\n",
       "  </tbody>\n",
       "</table>\n",
       "</div>"
      ],
      "text/plain": [
       "                      Model  Train Precision  Test Precision  Train Recall  \\\n",
       "0                       XGB           92.157          83.131        95.358   \n",
       "1        Lgistic regression           67.086          66.320        72.146   \n",
       "2  Random Forest Classifier           91.886          91.886        95.204   \n",
       "3             Decision Tree           91.171          80.994        96.361   \n",
       "4                       SVM           86.700          79.723        91.017   \n",
       "5                       KNN           92.286          77.759        91.307   \n",
       "\n",
       "   Test Recall  \n",
       "0       86.582  \n",
       "1       71.750  \n",
       "2       87.265  \n",
       "3       85.697  \n",
       "4       83.586  \n",
       "5       81.084  "
      ]
     },
     "execution_count": 197,
     "metadata": {},
     "output_type": "execute_result"
    }
   ],
   "source": [
    "pre_rec_df"
   ]
  },
  {
   "cell_type": "code",
   "execution_count": 198,
   "metadata": {},
   "outputs": [
    {
     "data": {
      "text/html": [
       "<div>\n",
       "<style scoped>\n",
       "    .dataframe tbody tr th:only-of-type {\n",
       "        vertical-align: middle;\n",
       "    }\n",
       "\n",
       "    .dataframe tbody tr th {\n",
       "        vertical-align: top;\n",
       "    }\n",
       "\n",
       "    .dataframe thead th {\n",
       "        text-align: right;\n",
       "    }\n",
       "</style>\n",
       "<table border=\"1\" class=\"dataframe\">\n",
       "  <thead>\n",
       "    <tr style=\"text-align: right;\">\n",
       "      <th></th>\n",
       "      <th>Model</th>\n",
       "      <th>F1 score Train</th>\n",
       "      <th>F1 score Test</th>\n",
       "    </tr>\n",
       "  </thead>\n",
       "  <tbody>\n",
       "    <tr>\n",
       "      <th>0</th>\n",
       "      <td>XGB</td>\n",
       "      <td>93.730178</td>\n",
       "      <td>84.821413</td>\n",
       "    </tr>\n",
       "    <tr>\n",
       "      <th>1</th>\n",
       "      <td>Lgistic regression</td>\n",
       "      <td>69.524054</td>\n",
       "      <td>68.928225</td>\n",
       "    </tr>\n",
       "    <tr>\n",
       "      <th>2</th>\n",
       "      <td>Random Forest Classifier</td>\n",
       "      <td>93.515578</td>\n",
       "      <td>85.147852</td>\n",
       "    </tr>\n",
       "    <tr>\n",
       "      <th>3</th>\n",
       "      <td>Decision Tree</td>\n",
       "      <td>93.694183</td>\n",
       "      <td>83.279155</td>\n",
       "    </tr>\n",
       "    <tr>\n",
       "      <th>4</th>\n",
       "      <td>SVM</td>\n",
       "      <td>88.806067</td>\n",
       "      <td>81.608811</td>\n",
       "    </tr>\n",
       "    <tr>\n",
       "      <th>5</th>\n",
       "      <td>KNN</td>\n",
       "      <td>91.793890</td>\n",
       "      <td>79.386700</td>\n",
       "    </tr>\n",
       "  </tbody>\n",
       "</table>\n",
       "</div>"
      ],
      "text/plain": [
       "                      Model  F1 score Train  F1 score Test\n",
       "0                       XGB       93.730178      84.821413\n",
       "1        Lgistic regression       69.524054      68.928225\n",
       "2  Random Forest Classifier       93.515578      85.147852\n",
       "3             Decision Tree       93.694183      83.279155\n",
       "4                       SVM       88.806067      81.608811\n",
       "5                       KNN       91.793890      79.386700"
      ]
     },
     "execution_count": 198,
     "metadata": {},
     "output_type": "execute_result"
    }
   ],
   "source": [
    "f1_df"
   ]
  }
 ],
 "metadata": {
  "kernelspec": {
   "display_name": "Python 3",
   "language": "python",
   "name": "python3"
  },
  "language_info": {
   "codemirror_mode": {
    "name": "ipython",
    "version": 3
   },
   "file_extension": ".py",
   "mimetype": "text/x-python",
   "name": "python",
   "nbconvert_exporter": "python",
   "pygments_lexer": "ipython3",
   "version": "3.8.3"
  }
 },
 "nbformat": 4,
 "nbformat_minor": 4
}
